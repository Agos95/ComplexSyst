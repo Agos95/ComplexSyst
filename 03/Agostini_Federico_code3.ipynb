{
 "cells": [
  {
   "cell_type": "markdown",
   "metadata": {},
   "source": [
    "# Exercise 3 – Neutral Theory and emergent pattern in Ecology\n",
    "\n",
    "### Federico Agostini, Federico Bottaro, Gianmarco Pompeo"
   ]
  },
  {
   "cell_type": "markdown",
   "metadata": {},
   "source": [
    "## Task 1\n",
    "\n",
    "Divide the 50-hectar plots in N=800 subplots of equal area. We will assume that these are independent and we can do the statistics on these plots. Calculate: a) the vector of the abundances for all the species (x 1 ,...,x S ) for each subplot; In this way you have a N*S matrix, where each row represent the statistics of abundances in one subplot. b) Transform the matrix in one big vector of N*S component and remove all the 0s in the vector. The resulting vector – let us call it X contains all information about “present” species in our statistics"
   ]
  },
  {
   "cell_type": "code",
   "execution_count": 1,
   "metadata": {},
   "outputs": [],
   "source": [
    "import numpy as np\n",
    "import matplotlib.pyplot as plt\n",
    "%matplotlib inline\n",
    "import pandas as pd\n",
    "import seaborn as sns\n",
    "from math import factorial"
   ]
  },
  {
   "cell_type": "code",
   "execution_count": 2,
   "metadata": {},
   "outputs": [
    {
     "data": {
      "text/html": [
       "<div>\n",
       "<style scoped>\n",
       "    .dataframe tbody tr th:only-of-type {\n",
       "        vertical-align: middle;\n",
       "    }\n",
       "\n",
       "    .dataframe tbody tr th {\n",
       "        vertical-align: top;\n",
       "    }\n",
       "\n",
       "    .dataframe thead th {\n",
       "        text-align: right;\n",
       "    }\n",
       "</style>\n",
       "<table border=\"1\" class=\"dataframe\">\n",
       "  <thead>\n",
       "    <tr style=\"text-align: right;\">\n",
       "      <th></th>\n",
       "      <th>tag</th>\n",
       "      <th>gx</th>\n",
       "      <th>gy</th>\n",
       "      <th>dbh</th>\n",
       "      <th>pom</th>\n",
       "      <th>date</th>\n",
       "    </tr>\n",
       "  </thead>\n",
       "  <tbody>\n",
       "    <tr>\n",
       "      <th>count</th>\n",
       "      <td>368122.000000</td>\n",
       "      <td>368035.000000</td>\n",
       "      <td>368035.000000</td>\n",
       "      <td>208387.000000</td>\n",
       "      <td>368122.000000</td>\n",
       "      <td>368070.000000</td>\n",
       "    </tr>\n",
       "    <tr>\n",
       "      <th>mean</th>\n",
       "      <td>262011.545901</td>\n",
       "      <td>494.356946</td>\n",
       "      <td>254.214007</td>\n",
       "      <td>49.337660</td>\n",
       "      <td>0.696302</td>\n",
       "      <td>8912.050490</td>\n",
       "    </tr>\n",
       "    <tr>\n",
       "      <th>std</th>\n",
       "      <td>201947.633329</td>\n",
       "      <td>291.017349</td>\n",
       "      <td>144.039966</td>\n",
       "      <td>83.399585</td>\n",
       "      <td>0.653746</td>\n",
       "      <td>77.962794</td>\n",
       "    </tr>\n",
       "    <tr>\n",
       "      <th>min</th>\n",
       "      <td>-42299.000000</td>\n",
       "      <td>0.000000</td>\n",
       "      <td>0.000000</td>\n",
       "      <td>10.000000</td>\n",
       "      <td>0.000000</td>\n",
       "      <td>8768.000000</td>\n",
       "    </tr>\n",
       "    <tr>\n",
       "      <th>25%</th>\n",
       "      <td>107171.250000</td>\n",
       "      <td>237.800000</td>\n",
       "      <td>130.300000</td>\n",
       "      <td>16.000000</td>\n",
       "      <td>0.000000</td>\n",
       "      <td>8841.000000</td>\n",
       "    </tr>\n",
       "    <tr>\n",
       "      <th>50%</th>\n",
       "      <td>210413.500000</td>\n",
       "      <td>492.200000</td>\n",
       "      <td>254.700000</td>\n",
       "      <td>25.000000</td>\n",
       "      <td>1.000000</td>\n",
       "      <td>8915.000000</td>\n",
       "    </tr>\n",
       "    <tr>\n",
       "      <th>75%</th>\n",
       "      <td>409068.750000</td>\n",
       "      <td>747.700000</td>\n",
       "      <td>380.100000</td>\n",
       "      <td>47.000000</td>\n",
       "      <td>1.000000</td>\n",
       "      <td>8975.000000</td>\n",
       "    </tr>\n",
       "    <tr>\n",
       "      <th>max</th>\n",
       "      <td>749571.000000</td>\n",
       "      <td>999.900000</td>\n",
       "      <td>499.900000</td>\n",
       "      <td>2765.000000</td>\n",
       "      <td>5.000000</td>\n",
       "      <td>9154.000000</td>\n",
       "    </tr>\n",
       "  </tbody>\n",
       "</table>\n",
       "</div>"
      ],
      "text/plain": [
       "                 tag             gx             gy            dbh  \\\n",
       "count  368122.000000  368035.000000  368035.000000  208387.000000   \n",
       "mean   262011.545901     494.356946     254.214007      49.337660   \n",
       "std    201947.633329     291.017349     144.039966      83.399585   \n",
       "min    -42299.000000       0.000000       0.000000      10.000000   \n",
       "25%    107171.250000     237.800000     130.300000      16.000000   \n",
       "50%    210413.500000     492.200000     254.700000      25.000000   \n",
       "75%    409068.750000     747.700000     380.100000      47.000000   \n",
       "max    749571.000000     999.900000     499.900000    2765.000000   \n",
       "\n",
       "                 pom           date  \n",
       "count  368122.000000  368070.000000  \n",
       "mean        0.696302    8912.050490  \n",
       "std         0.653746      77.962794  \n",
       "min         0.000000    8768.000000  \n",
       "25%         0.000000    8841.000000  \n",
       "50%         1.000000    8915.000000  \n",
       "75%         1.000000    8975.000000  \n",
       "max         5.000000    9154.000000  "
      ]
     },
     "execution_count": 2,
     "metadata": {},
     "output_type": "execute_result"
    }
   ],
   "source": [
    "# read data file\n",
    "data_full = pd.read_csv(\"bci05.csv\")\n",
    "data_full.describe()"
   ]
  },
  {
   "cell_type": "code",
   "execution_count": 3,
   "metadata": {},
   "outputs": [
    {
     "name": "stdout",
     "output_type": "stream",
     "text": [
      "# species (S) = 299\n",
      "# alive trees = 208387\n",
      "Species list: ['ACACME' 'ACALDI' 'ACALMA' 'ADE1TR' 'AEGIPA' 'ALCHCO' 'ALCHLA' 'ALIBED'\n",
      " 'ALLOPS' 'ALSEBL' 'AMAICO' 'ANACEX' 'ANAXPA' 'ANDIIN' 'ANNOAC' 'ANNOSP'\n",
      " 'APEIME' 'APEITI' 'APHESI' 'APPUSE' 'ARDIBA' 'ARDIFE' 'ARDIGU' 'ASPICR'\n",
      " 'AST1ST' 'AST2GR' 'BACTBA' 'BACTC1' 'BACTMA' 'BEILPE' 'BOROPA' 'BROSAL'\n",
      " 'BROSGU' 'CALOLO' 'CAPPFR' 'CASEAC' 'CASEAR' 'CASECO' 'CASEGU' 'CASESY'\n",
      " 'CASSEL' 'CAVAPL' 'CECRIN' 'CECRLO' 'CECROB' 'CEDROD' 'CEIBPE' 'CELTSC'\n",
      " 'CESPMA' 'CESTME' 'CHA1TE' 'CHA2SC' 'CHIMPA' 'CHR1EC' 'CHR2AR' 'CHR2CA'\n",
      " 'CLIDDE' 'CLIDOC' 'CLIDSE' 'COCCCO' 'COCCMA' 'COLUGL' 'CONOBR' 'CONOCI'\n",
      " 'CORDAL' 'CORDBI' 'CORDLA' 'COU2CU' 'COUTHE' 'CROTBI' 'CUPACI' 'CUPALA'\n",
      " 'CUPARU' 'CUPASY' 'CYPHHA' 'DENDAR' 'DES2PA' 'DIO2AR' 'DIPTPA' 'DRYPST'\n",
      " 'ELAEOL' 'ENTESC' 'ERY1CO' 'ERY2MA' 'ERY2PA' 'EUGECO' 'EUGEGA' 'EUGENE'\n",
      " 'EUGEOE' 'FARAOC' 'FICUBU' 'FICUC2' 'FICUCI' 'FICUIN' 'FICUMA' 'FICUOB'\n",
      " 'FICUPO' 'FICUTO' 'FICUTR' 'FICUYO' 'GAR2IN' 'GAR2MA' 'GENIAM' 'GUAPST'\n",
      " 'GUARGR' 'GUARGU' 'GUARSP' 'GUATDU' 'GUAZUL' 'GUETFO' 'GUSTSU' 'HAMEAX'\n",
      " 'HAMEPA' 'HAMPAP' 'HASSFL' 'HEISAC' 'HEISCO' 'HERRPU' 'HIRTAM' 'HIRTTR'\n",
      " 'HURACR' 'HYBAPR' 'HYERAL' 'INGACO' 'INGAFA' 'INGAGO' 'INGAM1' 'INGAMA'\n",
      " 'INGAMI' 'INGAPE' 'INGAPU' 'INGAQU' 'INGARU' 'INGAS1' 'INGASA' 'INGASP'\n",
      " 'INGATH' 'INGAUM' 'JAC1CO' 'LACIAG' 'LACMPA' 'LAETPR' 'LAETTH' 'LAFOPU'\n",
      " 'LEANDI' 'LICAHY' 'LICAPL' 'LINDLA' 'LONCLA' 'LOZAPI' 'LUEHSE' 'MACLTI'\n",
      " 'MACRGL' 'MALMSP' 'MALPRO' 'MAQUCO' 'MAR1LA' 'MARGNO' 'MAYTSC' 'MICOAF'\n",
      " 'MICOAR' 'MICODO' 'MICOEL' 'MICOHO' 'MICOIM' 'MICONE' 'MICOPR' 'MOURMY'\n",
      " 'MYRCGA' 'MYROFR' 'NECTCI' 'NECTGL' 'NECTPU' 'NECTS1' 'NEEAAM' 'OCHRPY'\n",
      " 'OCOTCE' 'OCOTOB' 'OCOTPU' 'OCOTWH' 'OENOMA' 'OLMEAS' 'ORMOAM' 'ORMOCR'\n",
      " 'ORMOMA' 'OURALU' 'PALIGU' 'PENTMA' 'PEREXA' 'PHOECI' 'PICRLA' 'PIPEA1'\n",
      " 'PIPEAE' 'PIPECA' 'PIPECO' 'PIPECU' 'PIPEPE' 'PIPERE' 'PIT1MA' 'PIT1RU'\n",
      " 'PLA1PI' 'PLA2EL' 'POCHQU' 'POCHSE' 'POSOLA' 'POULAR' 'POURBI' 'POUTFO'\n",
      " 'POUTRE' 'POUTST' 'PRI2CO' 'PROTCO' 'PROTPA' 'PROTSP' 'PROTTE' 'PSE1SE'\n",
      " 'PSIDFR' 'PSYCAC' 'PSYCCH' 'PSYCDE' 'PSYCG1' 'PSYCG2' 'PSYCG3' 'PSYCHO'\n",
      " 'PSYCLI' 'PSYCMA' 'PSYCPI' 'PSYCPS' 'PSYCRA' 'PTERBE' 'PTERRO' 'QUARAS'\n",
      " 'QUASAM' 'RANDAR' 'RANDFO' 'RAUVLI' 'RINOSY' 'SAPIAU' 'SAPISP' 'SCH1ZO'\n",
      " 'SCH2MO' 'SCHIPA' 'SENNDA' 'SIMAAM' 'SIPAGU' 'SIPAPA' 'SLOATE' 'SOCREX'\n",
      " 'SOLAAS' 'SOLAHA' 'SOLAST' 'SOROAF' 'SPACME' 'SPONMO' 'SPONRA' 'STEMGR'\n",
      " 'STERAP' 'STYLST' 'SWARS1' 'SWARS2' 'SYMPGL' 'TAB1GU' 'TAB1RO' 'TAB2AR'\n",
      " 'TACHVE' 'TALINE' 'TALIPR' 'TERMAM' 'TERMOB' 'TET2PA' 'TET4JO' 'THEOCA'\n",
      " 'THEVAH' 'TOCOPI' 'TRATAS' 'TREMMI' 'TRI1GI' 'TRI2PA' 'TRI2TU' 'TRI4GA'\n",
      " 'TRIPCU' 'TROPRA' 'TURPOC' 'UNONPI' 'URERBA' 'VERBGI' 'VIROSE' 'VIROSP'\n",
      " 'VIROSU' 'VISMBA' 'VISMBI' 'VOCHFE' 'XYL1MA' 'XYL2OL' 'ZANTBE' 'ZANTP1'\n",
      " 'ZANTPR' 'ZANTSE' 'ZUELGU']\n"
     ]
    }
   ],
   "source": [
    "# keep only data for ALIVE species\n",
    "data_full = data_full[data_full[\"status\"] == 'A']\n",
    "data = data_full[[\"sp\",\"gx\", \"gy\"]]\n",
    "S = data[\"sp\"].nunique()\n",
    "Species = data[\"sp\"].unique()\n",
    "print(\"# species (S) =\", S)\n",
    "print(\"# alive trees =\", data[\"sp\"].count())\n",
    "print(\"Species list:\", Species)"
   ]
  },
  {
   "cell_type": "code",
   "execution_count": 4,
   "metadata": {},
   "outputs": [],
   "source": [
    "# divide the data in 800 subplots\n",
    "## xaxis divided in 50 parts\n",
    "## yaxis divided in 16 parts\n",
    "xdiv = np.linspace(0, 1000, 51)\n",
    "ydiv = np.linspace(0,  500, 17)\n",
    "\n",
    "subplot = []\n",
    "df = pd.DataFrame()\n",
    "\n",
    "for i in range(len(xdiv)-1):\n",
    "    for j in range(len(ydiv)-1):\n",
    "        df = data[data[\"gx\"] >= xdiv[i]  ]\n",
    "        df =   df[  df[\"gx\"] <  xdiv[i+1]]\n",
    "        df =   df[  df[\"gy\"] >= ydiv[j]  ]\n",
    "        df =   df[  df[\"gy\"] <  ydiv[j+1]]\n",
    "        subplot.append(df)"
   ]
  },
  {
   "cell_type": "code",
   "execution_count": 5,
   "metadata": {},
   "outputs": [
    {
     "name": "stdout",
     "output_type": "stream",
     "text": [
      "(800, 299)\n"
     ]
    },
    {
     "data": {
      "text/plain": [
       "array([[ 0., 19.,  8., ...,  0.,  0.,  0.],\n",
       "       [ 0.,  2.,  0., ...,  0.,  0.,  0.],\n",
       "       [ 0.,  0.,  0., ...,  0.,  0.,  0.],\n",
       "       ...,\n",
       "       [ 0.,  2.,  0., ...,  0.,  0.,  0.],\n",
       "       [ 0.,  3.,  0., ...,  0.,  0.,  0.],\n",
       "       [ 0.,  1.,  0., ...,  2.,  0.,  0.]])"
      ]
     },
     "execution_count": 5,
     "metadata": {},
     "output_type": "execute_result"
    }
   ],
   "source": [
    "# the ij element indicates the abundance of species j in subplot i\n",
    "# rows i    -> subplots\n",
    "# columns j -> species\n",
    "abundance_matrix = np.zeros((len(subplot), S))\n",
    "for i, df in enumerate(subplot):\n",
    "    for j, p in enumerate(Species):\n",
    "        n = df[df[\"sp\"] == p].shape[0]\n",
    "        abundance_matrix[i,j] = n\n",
    "print(abundance_matrix.shape)\n",
    "abundance_matrix"
   ]
  },
  {
   "cell_type": "code",
   "execution_count": 6,
   "metadata": {},
   "outputs": [
    {
     "name": "stdout",
     "output_type": "stream",
     "text": [
      "(49563,)\n",
      "(113,)\n"
     ]
    }
   ],
   "source": [
    "abundance_vector = abundance_matrix.reshape(abundance_matrix.shape[0]*abundance_matrix.shape[1],)\n",
    "abundance_vector = abundance_vector[abundance_vector > 0]\n",
    "print(abundance_vector.shape)\n",
    "print(np.unique(abundance_vector).shape)"
   ]
  },
  {
   "cell_type": "markdown",
   "metadata": {},
   "source": [
    "## Task 2\n",
    "\n",
    "Build the empirical cumulative distribution function from X, i.e. calculate the probability that picking a species at random it has an abundance equal or greater than x, i.e. $P_>(x)$. Of course $P_>(1)=1$. This is the cumulative of the Relative Specie Abundance (RSA)"
   ]
  },
  {
   "cell_type": "code",
   "execution_count": 7,
   "metadata": {},
   "outputs": [],
   "source": [
    "unique_values = np.unique(abundance_vector)\n",
    "ecdf = []\n",
    "for i in unique_values:\n",
    "    ecdf.append(np.sum(abundance_vector>=i)/len(abundance_vector))\n"
   ]
  },
  {
   "cell_type": "code",
   "execution_count": 8,
   "metadata": {},
   "outputs": [
    {
     "data": {
      "text/plain": [
       "[<matplotlib.lines.Line2D at 0x7f7f9aad0438>]"
      ]
     },
     "execution_count": 8,
     "metadata": {},
     "output_type": "execute_result"
    },
    {
     "data": {
      "image/png": "[encoded data removed]",
      "text/plain": [
       "<Figure size 432x288 with 1 Axes>"
      ]
     },
     "metadata": {
      "needs_background": "light"
     },
     "output_type": "display_data"
    }
   ],
   "source": [
    "plt.plot(unique_values, ecdf)"
   ]
  },
  {
   "cell_type": "markdown",
   "metadata": {},
   "source": [
    "## Task 3\n",
    "\n",
    "Compare the stationary solution of the birth and death ME with birth rate $b_n =bn$ and death rate $d_n =dn$ and immigration $b_0=m$ with the cumulative RSA, knowing that experimentally the immigration rate has been measured and it is $m=0.05$. Notes: \n",
    "\n",
    "1. you need to use the cumulative distribution of the solution; \n",
    "2. you need normalize the solution of the birth and death ME from 1 to $\\infty$ (not from 0)."
   ]
  },
  {
   "cell_type": "markdown",
   "metadata": {},
   "source": [
    "$$\\sum_{n=1}^{\\infty} \\frac{\\nu(1-\\nu)^{n-1}}{n} = \\frac{\\nu \\log \\nu}{\\nu-1}$$"
   ]
  },
  {
   "cell_type": "code",
   "execution_count": 9,
   "metadata": {},
   "outputs": [
    {
     "name": "stdout",
     "output_type": "stream",
     "text": [
      "0.15767011966073638\n",
      "0.9997114383429463\n"
     ]
    }
   ],
   "source": [
    "def f(x, nu=0.05):\n",
    "    return (nu*(1-nu)**(x-1))/x\n",
    "\n",
    "nu=0.05\n",
    "norm = nu*np.log(nu)/(nu-1)\n",
    "print(norm)\n",
    "n = unique_values.copy()\n",
    "prob = f(n)/norm\n",
    "print(prob.sum())\n",
    "th_ecdf = []\n",
    "for i in range(len(prob)):\n",
    "    th_ecdf.append(np.sum(prob[i:]))"
   ]
  },
  {
   "cell_type": "code",
   "execution_count": 10,
   "metadata": {},
   "outputs": [
    {
     "data": {
      "text/plain": [
       "[<matplotlib.lines.Line2D at 0x7f7f9aa44710>]"
      ]
     },
     "execution_count": 10,
     "metadata": {},
     "output_type": "execute_result"
    },
    {
     "data": {
      "image/png": "[encoded data removed]",
      "text/plain": [
       "<Figure size 432x288 with 1 Axes>"
      ]
     },
     "metadata": {
      "needs_background": "light"
     },
     "output_type": "display_data"
    }
   ],
   "source": [
    "plt.xscale(\"log\")\n",
    "plt.yscale(\"log\")\n",
    "plt.plot(unique_values, ecdf, \"r\")\n",
    "plt.plot(unique_values, th_ecdf, \"--b\")\n"
   ]
  },
  {
   "cell_type": "markdown",
   "metadata": {},
   "source": [
    "## Task 4\n",
    "\n",
    "*OPTIONAL:* Build the empirical Species Area relationship in the BCIforest, i.e. calculate the different number of species for increasing area building the curve $<S(ja/A)>$ where $a=$ area of the subplot, $A=$ total area and $j=1, \\dots, N$). Of course you need to perform averages. Compare the empirical curve with the prediction from Neutral Theory in a well-mixed ecosystem that I have presented in class (doing the best fit for the free parameter m)."
   ]
  },
  {
   "cell_type": "code",
   "execution_count": 11,
   "metadata": {},
   "outputs": [],
   "source": [
    "# divide the data in N=1, ..., 800 subplots\n",
    "## xaxis divided in N parts\n",
    "\n",
    "def SAR():\n",
    "    N = np.arange(1,801)\n",
    "\n",
    "    xdiv = 1000/N\n",
    "    ydiv = 500\n",
    "\n",
    "    df = pd.DataFrame()\n",
    "    N_species_average = []\n",
    "    N_species_error   = []\n",
    "\n",
    "    for N in range(1,801):\n",
    "        if N%50 == 0: print(\"N =\", N)\n",
    "        xdiv = np.linspace(0, 1000, N+1)\n",
    "        subplot = []\n",
    "        N_species = []\n",
    "        for i in range(len(xdiv)-1):\n",
    "            df = data[data[\"gx\"] >= xdiv[i]  ]\n",
    "            df =   df[  df[\"gx\"] <  xdiv[i+1]]\n",
    "            n = df[\"sp\"].nunique()\n",
    "            N_species.append(n)\n",
    "        mean  = np.mean(np.array(N_species))\n",
    "        error = np.std(np.array(N_species))/N**0.5\n",
    "        N_species_average.append(mean)\n",
    "        N_species_error.append(error) \n",
    "    return N_species_average, N_species_error\n",
    "        "
   ]
  },
  {
   "cell_type": "code",
   "execution_count": 12,
   "metadata": {},
   "outputs": [
    {
     "name": "stdout",
     "output_type": "stream",
     "text": [
      "N = 50\n",
      "N = 100\n",
      "N = 150\n",
      "N = 200\n",
      "N = 250\n",
      "N = 300\n",
      "N = 350\n",
      "N = 400\n",
      "N = 450\n",
      "N = 500\n",
      "N = 550\n",
      "N = 600\n",
      "N = 650\n",
      "N = 700\n",
      "N = 750\n",
      "N = 800\n"
     ]
    }
   ],
   "source": [
    "from os.path import isfile\n",
    "\n",
    "np.random.seed(20190512)\n",
    "\n",
    "mean_path  = \"./Mean.gz\"\n",
    "error_path = \"./Error.gz\"\n",
    "\n",
    "if isfile(mean_path) and isfile(error_path):\n",
    "    print(\"Mean & Error list found: loading data\")\n",
    "    N_species_average = np.loadtxt(mean_path)\n",
    "    N_species_error   = np.loadtxt(error_path)\n",
    "else:\n",
    "    N_species_average, N_species_error = SAR()\n",
    "    np.savetxt(\"Mean.gz\" , N_species_average)\n",
    "    np.savetxt(\"Error.gz\", N_species_error)"
   ]
  },
  {
   "cell_type": "code",
   "execution_count": 13,
   "metadata": {},
   "outputs": [
    {
     "data": {
      "image/png": "[encoded data removed]",
      "text/plain": [
       "<Figure size 576x360 with 1 Axes>"
      ]
     },
     "metadata": {
      "needs_background": "light"
     },
     "output_type": "display_data"
    }
   ],
   "source": [
    "Area = 500*1000/np.arange(1,801)\n",
    "fig, ax = plt.subplots(figsize=(8,5))\n",
    "ax.errorbar(x=Area, y=N_species_average, yerr=N_species_error)\n",
    "fig.tight_layout()\n",
    "#fig.savefig(\"./Figure/SAR.pdf\")"
   ]
  },
  {
   "cell_type": "code",
   "execution_count": 14,
   "metadata": {},
   "outputs": [
    {
     "name": "stdout",
     "output_type": "stream",
     "text": [
      "m = [0.00016011] +/- [[1.04752765e-12]]\n"
     ]
    },
    {
     "data": {
      "image/png": "[encoded data removed]",
      "text/plain": [
       "<Figure size 576x360 with 1 Axes>"
      ]
     },
     "metadata": {
      "needs_background": "light"
     },
     "output_type": "display_data"
    }
   ],
   "source": [
    "from scipy.optimize import curve_fit\n",
    "\n",
    "def SMean(x,m):\n",
    "    A = 1000*500\n",
    "    return S*(1- np.log(x/A*(1-m)+m)/np.log(m))\n",
    "\n",
    "popt, popcov = curve_fit(SMean, Area, N_species_average, p0=1e-10)\n",
    "\n",
    "print(\"m =\", popt, \"+/-\", popcov)\n",
    "\n",
    "fig, ax = plt.subplots(figsize=(8,5))\n",
    "ax.set_xscale(\"log\")\n",
    "ax.errorbar(x=Area, y=N_species_average, yerr=N_species_error, label=\"Data\", fmt=\"none\")\n",
    "ax.plot(Area, SMean(Area, popt), label=\"Fit\", alpha=0.8)\n",
    "ax.legend(loc=\"best\", fontsize=14)\n",
    "ax.set_xlabel(\"$\\log$(Area)\", fontsize=14)\n",
    "ax.set_ylabel(\"Different species\", fontsize=14)\n",
    "ax.tick_params(axis='both', which='major', labelsize=14)\n",
    "ax.annotate(\"$m={:.3e} \\\\pm {:1.0e}$\".format(float(popt), float(popcov)), xy=(.25, .9), \n",
    "            xycoords=\"axes fraction\", fontsize=14)\n",
    "fig.tight_layout()\n",
    "fig.savefig(\"./Figure/SAR.pdf\")"
   ]
  },
  {
   "cell_type": "markdown",
   "metadata": {},
   "source": [
    "## Task 5\n",
    "\n",
    "Logistic Growth. Another widespread model for population dynamics used in ecology is the so called logistic model, where species abundance initially grows exponentially but then reaches a carrying capacity K. There are several microscopic derivations that give the same logistic behavior. In particular consider the reactions:\n",
    "\n",
    "1. Birth: $A \\to A+A$ with probability b (per unit time and per particle);\n",
    "2. Migration: $0 \\to A$ with probability m (x unit time and x particle);\n",
    "3. Death: $A \\to 0$ with prob. d(A)=b A / K (x unit time and x particle).\n",
    "\n",
    "Write the transition rate $W^+(A)=W(A \\to A+1)$ (summing both 1+2) and $W^-(A)=W(A \\to A-1)$ (using 3) for the population dynamics of 1 species. Write the corresponding Birth and death Master equation a as function of the stationary state. Plot it for $m=0.1$, $b=1$ and $K=10$ (P(0) can be calculated numerically)."
   ]
  },
  {
   "cell_type": "markdown",
   "metadata": {},
   "source": [
    "**Formula 1**\n",
    "$$P_A = \\prod_{i=0}^{A-1}\\frac{ib+m}{\\frac{bi^2}{k}} = \\frac{\\prod_{i=0}^{A-1}ib+m}{(\\frac{b}{k})^A(A!)^2}$$\n",
    "\n",
    "**Formula 2**\n",
    "$$P_A = \\prod_{i=0}^{A-1}\\frac{ib+m(k-i)}{\\frac{bi^2}{k}} = \\frac{\\prod_{i=0}^{A-1}ib+m(k-i)}{(\\frac{b}{k})^A(A!)^2}$$\n",
    "\n",
    "**Formula 3**\n",
    "$$P_A = \\prod_{i=0}^{A-1}\\frac{(ib+m)(k-i)}{\\frac{bi^2}{k}} = \\frac{\\prod_{i=0}^{A-1}(ib+m)(k-i)}{(\\frac{b}{k})^A(A!)^2}$$"
   ]
  },
  {
   "cell_type": "code",
   "execution_count": 15,
   "metadata": {},
   "outputs": [],
   "source": [
    "def LG1(a, m=1, b=1, k=10):\n",
    "    num = np.prod(np.arange(a)*b+m)          # np.arange(a) = 0, 1, ... , a-1\n",
    "    den = (b/k)**a*(np.math.factorial(a))**2 \n",
    "    return num/den\n",
    "\n",
    "def LG2(a, m=1, b=1, k=10):\n",
    "    num = np.prod(np.arange(a)*b+m*(k-np.arange(a)))          # np.arange(a) = 0, 1, ... , a-1\n",
    "    den = (b/k)**a*(np.math.factorial(a))**2 \n",
    "    return num/den\n",
    "\n",
    "def LG3(a, m=1, b=1, k=10):\n",
    "    num = np.prod(np.multiply(np.arange(a)*b+m,k-np.arange(a)))          # np.arange(a) = 0, 1, ... , a-1\n",
    "    den = (b/k)**a*(np.math.factorial(a))**2 \n",
    "    return num/den\n"
   ]
  },
  {
   "cell_type": "code",
   "execution_count": 16,
   "metadata": {},
   "outputs": [],
   "source": [
    "A = np.arange(1,40)\n",
    "Stat1, Stat2, Stat3 = [], [], []\n",
    "\n",
    "for a in range(1,40):\n",
    "    Stat1.append(LG1(a))\n",
    "    Stat2.append(LG2(a))\n",
    "    Stat3.append(LG3(a))"
   ]
  },
  {
   "cell_type": "code",
   "execution_count": 17,
   "metadata": {},
   "outputs": [
    {
     "data": {
      "image/png": "[encoded data removed]",
      "text/plain": [
       "<Figure size 576x360 with 1 Axes>"
      ]
     },
     "metadata": {
      "needs_background": "light"
     },
     "output_type": "display_data"
    }
   ],
   "source": [
    "Stat1 = np.array(Stat1)/np.array(Stat1).sum()\n",
    "Stat2 = np.array(Stat2)/np.array(Stat2).sum()\n",
    "Stat3 = np.array(Stat3)/np.array(Stat3).sum()\n",
    "\n",
    "fig, ax = plt.subplots(figsize=(8,5))\n",
    "ax.plot(A, Stat1, \"o--\", alpha=.8, label=\"Stat1\")\n",
    "ax.plot(A, Stat2, \"o--\", alpha=.8, label=\"Stat2\")\n",
    "ax.plot(A, Stat3, \"o--\", alpha=.8, label=\"Stat3\")\n",
    "ax.set_xlim(0, 25)\n",
    "ax.set_xlabel(\"# of individuals\", fontsize=14)\n",
    "ax.set_ylabel(\"Probability\", fontsize=14)\n",
    "ax.tick_params(axis='both', which='major', labelsize=14)\n",
    "ax.legend(loc=\"best\", fontsize=14)\n",
    "fig.tight_layout()\n",
    "fig.savefig(\"./Figure/LogisticGrowth.pdf\")\n"
   ]
  },
  {
   "cell_type": "code",
   "execution_count": 18,
   "metadata": {},
   "outputs": [],
   "source": [
    "m = 0.1\n",
    "b = 1\n",
    "k = 10\n",
    "A = np.arange(1,40)\n",
    "Stat=[]\n",
    "\n",
    "for a in range(1,40):\n",
    "    num = np.prod((np.arange(a)*b+m)*(k-np.arange(a)))          # np.arange(a) = 0, 1, ... , a-1\n",
    "    den = (b/k)**a*(np.math.factorial(a))**2 \n",
    "    Stat.append(num/den)"
   ]
  },
  {
   "cell_type": "code",
   "execution_count": null,
   "metadata": {},
   "outputs": [],
   "source": []
  }
 ],
 "metadata": {
  "kernelspec": {
   "display_name": "Python 3",
   "language": "python",
   "name": "python3"
  },
  "language_info": {
   "codemirror_mode": {
    "name": "ipython",
    "version": 3
   },
   "file_extension": ".py",
   "mimetype": "text/x-python",
   "name": "python",
   "nbconvert_exporter": "python",
   "pygments_lexer": "ipython3",
   "version": "3.7.3"
  }
 },
 "nbformat": 4,
 "nbformat_minor": 2
}
